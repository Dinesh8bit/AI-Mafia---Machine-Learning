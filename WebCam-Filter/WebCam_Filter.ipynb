{
 "cells": [
  {
   "cell_type": "code",
   "execution_count": 1,
   "metadata": {},
   "outputs": [],
   "source": [
    "import cv2\n",
    "import numpy as np\n",
    "import pandas as pd"
   ]
  },
  {
   "cell_type": "code",
   "execution_count": 2,
   "metadata": {},
   "outputs": [],
   "source": [
    "face_cascade = cv2.CascadeClassifier(\"haarcascade_frontalface_default.xml\")\n",
    "eyes_cascade = cv2.CascadeClassifier(\"haarcascade_eye.xml\")\n",
    "nose_cascade = cv2.CascadeClassifier(\"haarcascade_mcs_nose.xml\")\n",
    "\n",
    "img = cv2.imread('Jamie_Before.jpg')\n",
    "img_og = img.copy()\n",
    "mustache = cv2.imread('mustache.png',-1)\n",
    "glasses = cv2.imread('glasses.png',-1)\n",
    "\n",
    "gray = cv2.cvtColor(img, cv2.COLOR_BGR2GRAY)\n",
    "img = cv2.cvtColor(img, cv2.COLOR_BGR2BGRA)#make picture gray"
   ]
  },
  {
   "cell_type": "code",
   "execution_count": 3,
   "metadata": {},
   "outputs": [
    {
     "name": "stdout",
     "output_type": "stream",
     "text": [
      "[(67, 81, 80, 80), (188, 86, 63, 63)]\n",
      "184 68\n",
      "(136, 220, 4)\n"
     ]
    }
   ],
   "source": [
    "faces = face_cascade.detectMultiScale(gray, 1.3, 5)\n",
    "\n",
    "for (x,y,w,h) in faces:\n",
    "    roi_gray = gray[y:y+h, x:x+w]\n",
    "    roi_color = img[y:y+h, x:x+w]\n",
    "    #cv2.rectangle(img,(x,y),(x+w,y+h),(255,255,0),2)\n",
    "\n",
    "\n",
    "    eyes = eyes_cascade.detectMultiScale(roi_gray,1.3,5)\n",
    "    el = []\n",
    "    for(ex,ey,ew,eh) in eyes:\n",
    "        #cv2.rectangle(roi_color,(ex, ey), (ex+ew, ey+eh),(0,255,0),3)\n",
    "        el.append((ex,ey,ew,eh))\n",
    "        roi_eyes = roi_gray[ey:ey+eh, ex:ex+w]\n",
    "\n",
    "    el = sorted(el , key = lambda a : a[0])\n",
    "    print(el)\t\n",
    "    ewf = el[1][0] + el[1][2] - el[0][0]\n",
    "    ehf = el[1][1] + el[1][3] - el[0][1]\n",
    "\n",
    "    print(ewf,ehf)\n",
    "    glasses2 = cv2.resize(glasses.copy(),(int(1.2*ewf),int(2*ehf)))\n",
    "    print(glasses2.shape)\n",
    "    gw, gh, gc = glasses2.shape\n",
    "    for i in range(0,gw):\n",
    "        for j in range(0,gh):\n",
    "            if glasses2[i,j][3] != 0:\n",
    "                roi_color[int((el[0][1]+el[1][1])/3)+i, int((h-gh)/2)+j] = glasses2[i, j]\n",
    "\n",
    "\n",
    "\n",
    "    nose = nose_cascade.detectMultiScale(roi_gray, scaleFactor=1.5, minNeighbors=5)\n",
    "    for (nx, ny, nw, nh) in nose:\n",
    "        #cv2.rectangle(roi_color, (nx, ny), (nx + nw, ny + nh), (255, 0, 0), 3)\n",
    "        roi_nose = roi_gray[ny: ny+nh, nx:nx+nw]\n",
    "        mustache2 = cv2.resize(mustache.copy(),(nw,int(0.5*ny)))\n",
    "\n",
    "        mw, mh, mc = mustache2.shape\n",
    "        for i in range(0,mw):\n",
    "            for j in range(0,mh):\n",
    "                if mustache2[i,j][3] != 0:\n",
    "                    roi_color[ny + int(nh/2) + i, nx+j] = mustache2[i,j]\n",
    "\n",
    " \n"
   ]
  },
  {
   "cell_type": "code",
   "execution_count": 4,
   "metadata": {},
   "outputs": [
    {
     "name": "stdout",
     "output_type": "stream",
     "text": [
      "[[177 141 117]\n",
      " [178 142 118]\n",
      " [179 143 121]\n",
      " ...\n",
      " [ 48  47  53]\n",
      " [ 43  42  48]\n",
      " [ 37  36  42]]\n"
     ]
    }
   ],
   "source": [
    "#Display resulting frame\n",
    "img = cv2.cvtColor(img, cv2.COLOR_BGRA2BGR)\n",
    "img = cv2.cvtColor(img, cv2.COLOR_BGR2RGB)\n",
    "\n",
    "\n",
    "cv2.imshow('After',img)\n",
    "cv2.imshow('Before',img_og)\n",
    "\n",
    "\n",
    "img = np.reshape(img , (-1,3))\n",
    "print((img))\n",
    "\n",
    "\n",
    "cv2.waitKey(0)\n",
    "\n",
    "\n",
    "\n",
    "cv2.destroyAllWindows()"
   ]
  },
  {
   "cell_type": "code",
   "execution_count": null,
   "metadata": {},
   "outputs": [],
   "source": [
    "dfa = pd.DataFrame({\"Prediction (R, G , B)\" : list(img)})"
   ]
  },
  {
   "cell_type": "code",
   "execution_count": null,
   "metadata": {},
   "outputs": [],
   "source": [
    "dfa"
   ]
  },
  {
   "cell_type": "code",
   "execution_count": null,
   "metadata": {},
   "outputs": [],
   "source": [
    "dfa.to_csv('ans.csv',index = False)"
   ]
  },
  {
   "cell_type": "code",
   "execution_count": null,
   "metadata": {},
   "outputs": [],
   "source": [
    "df= pd.read_csv(\"ans.csv\")\n",
    "df"
   ]
  },
  {
   "cell_type": "code",
   "execution_count": null,
   "metadata": {},
   "outputs": [],
   "source": []
  }
 ],
 "metadata": {
  "kernelspec": {
   "display_name": "Python 3",
   "language": "python",
   "name": "python3"
  },
  "language_info": {
   "codemirror_mode": {
    "name": "ipython",
    "version": 3
   },
   "file_extension": ".py",
   "mimetype": "text/x-python",
   "name": "python",
   "nbconvert_exporter": "python",
   "pygments_lexer": "ipython3",
   "version": "3.8.3"
  }
 },
 "nbformat": 4,
 "nbformat_minor": 2
}
